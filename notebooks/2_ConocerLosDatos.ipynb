{
 "cells": [
  {
   "cell_type": "markdown",
   "id": "e40d9fed",
   "metadata": {},
   "source": [
    "# Conocer los Datos:\n",
    " <div class=\"alert alert-block alert-danger\">\n",
    "\n",
    "Explicar los datos que vienen en su origen. \n",
    " Esto implica no solamente definir el nombre de la columna, sino que también *explicar los posibles rangos de valores*, lo que permitirá entender la información contenida.\n",
    "\n",
    " Acá también se debe mostrar:\n",
    " 1. Los datos, \n",
    " 2. Estructura del dataframe, \n",
    " 3. Ver los diferentes valores de los atributos,\n",
    " 4. Revisar la completitud de los datos, \n",
    " 5. Mostrar estadísticas de los datos, \n",
    " 6. Explicar los datos utilizando gráficos (esto permitirá ver cantidades, porcentajes, tendencias, etc).\n",
    "</div>"
   ]
  },
  {
   "cell_type": "markdown",
   "id": "6d20ae3b",
   "metadata": {},
   "source": [
    "# 0. Conocer los datos"
   ]
  },
  {
   "cell_type": "markdown",
   "id": "10672b4a",
   "metadata": {},
   "source": [
    "Este conjunto de datos contiene 1,000 registros de pedidos de entrega de tacos, generados entre el 1 de enero de 2024 y el 25 de mayo de 2025. <br>Simula datos realistas de restaurantes ubicados en varias ciudades de Estados Unidos e incluye información como:\n",
    "<div class=\"alert alert-block alert-info\">\n",
    "\n",
    "\n",
    "- `Order ID` _ID de Pedido_: Identificador único para cada pedido de tacos\n",
    "- `Restaurant` Name _Nombre del Restaurante_: Nombre del restaurante de tacos\n",
    "- `Location` _Ubicación_: Ciudad de EE. UU. donde se realizó el pedido\n",
    "- `Order Time` _Hora del Pedido_: Marca de tiempo cuando se realizó el pedido (AAAA-MM-DD HH:MM:SS)\n",
    "- `Delivery Time` _Hora de Entrega_: Marca de tiempo cuando se entregó el pedido\n",
    "- `Delivery Duration` (min) _Duración de Entrega (minutos)_: Minutos transcurridos desde el pedido hasta la entrega\n",
    "- `Taco Size` _Tamaño del Taco_: Tamaño del taco solicitado: Regular o Grande\n",
    "- `Taco type` _Tipo de Taco_: Tipo de taco (por ejemplo, Res, Pollo, Vegetariano, Pescado, Cerdo)\n",
    "- `Toppings Count` _Cantidad de Aderezos_: Número de aderezos extra añadidos.\n",
    "- `Distance (km)` _Distancia (km)_: Distancia desde el restaurante hasta el cliente\n",
    "- `Price ($)` _Precio ($)_: Precio total del pedido, calculado según el tamaño y los aderezos\n",
    "- `Tip ($)` _Propina ($)_: Monto de la propina dada por el cliente\n",
    "- `Weekend Order` _Pedido en Fin de Semana_: Booleano, VERDADERO si el pedido se realizó en fin de semana.\n",
    "</div>"
   ]
  },
  {
   "cell_type": "markdown",
   "id": "983d643d",
   "metadata": {},
   "source": [
    "# 1. Los Datos."
   ]
  },
  {
   "cell_type": "code",
   "execution_count": 1,
   "id": "c8ffd14b",
   "metadata": {},
   "outputs": [],
   "source": [
    "import pandas as pd"
   ]
  },
  {
   "cell_type": "code",
   "execution_count": 2,
   "id": "6dec1c03",
   "metadata": {},
   "outputs": [],
   "source": [
    "import matplotlib.pyplot as plt"
   ]
  },
  {
   "cell_type": "markdown",
   "id": "7e13287a",
   "metadata": {},
   "source": [
    "Crear dataframe"
   ]
  },
  {
   "cell_type": "code",
   "execution_count": 3,
   "id": "9da5c6fe",
   "metadata": {},
   "outputs": [],
   "source": [
    "df = pd.read_csv(\"../dataset/taco_sales_2024-2025.csv\")"
   ]
  },
  {
   "cell_type": "markdown",
   "id": "5964b868",
   "metadata": {},
   "source": [
    "Mostrar dataframe"
   ]
  },
  {
   "cell_type": "code",
   "execution_count": 4,
   "id": "d04736b0",
   "metadata": {},
   "outputs": [
    {
     "data": {
      "text/html": [
       "<div>\n",
       "<style scoped>\n",
       "    .dataframe tbody tr th:only-of-type {\n",
       "        vertical-align: middle;\n",
       "    }\n",
       "\n",
       "    .dataframe tbody tr th {\n",
       "        vertical-align: top;\n",
       "    }\n",
       "\n",
       "    .dataframe thead th {\n",
       "        text-align: right;\n",
       "    }\n",
       "</style>\n",
       "<table border=\"1\" class=\"dataframe\">\n",
       "  <thead>\n",
       "    <tr style=\"text-align: right;\">\n",
       "      <th></th>\n",
       "      <th>Order ID</th>\n",
       "      <th>Restaurant Name</th>\n",
       "      <th>Location</th>\n",
       "      <th>Order Time</th>\n",
       "      <th>Delivery Time</th>\n",
       "      <th>Delivery Duration (min)</th>\n",
       "      <th>Taco Size</th>\n",
       "      <th>Taco Type</th>\n",
       "      <th>Toppings Count</th>\n",
       "      <th>Distance (km)</th>\n",
       "      <th>Price ($)</th>\n",
       "      <th>Tip ($)</th>\n",
       "      <th>Weekend Order</th>\n",
       "    </tr>\n",
       "  </thead>\n",
       "  <tbody>\n",
       "    <tr>\n",
       "      <th>0</th>\n",
       "      <td>770487</td>\n",
       "      <td>El Taco Loco</td>\n",
       "      <td>New York</td>\n",
       "      <td>01-08-2024 14:55</td>\n",
       "      <td>01-08-2024 15:36</td>\n",
       "      <td>41</td>\n",
       "      <td>Regular</td>\n",
       "      <td>Chicken Taco</td>\n",
       "      <td>5</td>\n",
       "      <td>3.01</td>\n",
       "      <td>9.25</td>\n",
       "      <td>2.22</td>\n",
       "      <td>False</td>\n",
       "    </tr>\n",
       "    <tr>\n",
       "      <th>1</th>\n",
       "      <td>671858</td>\n",
       "      <td>El Taco Loco</td>\n",
       "      <td>San Antonio</td>\n",
       "      <td>23-11-2024 17:11</td>\n",
       "      <td>23-11-2024 17:25</td>\n",
       "      <td>14</td>\n",
       "      <td>Regular</td>\n",
       "      <td>Beef Taco</td>\n",
       "      <td>1</td>\n",
       "      <td>6.20</td>\n",
       "      <td>4.25</td>\n",
       "      <td>3.01</td>\n",
       "      <td>True</td>\n",
       "    </tr>\n",
       "    <tr>\n",
       "      <th>2</th>\n",
       "      <td>688508</td>\n",
       "      <td>Taco Haven</td>\n",
       "      <td>Austin</td>\n",
       "      <td>21-11-2024 20:24</td>\n",
       "      <td>21-11-2024 21:02</td>\n",
       "      <td>38</td>\n",
       "      <td>Large</td>\n",
       "      <td>Pork Taco</td>\n",
       "      <td>2</td>\n",
       "      <td>20.33</td>\n",
       "      <td>7.00</td>\n",
       "      <td>0.02</td>\n",
       "      <td>False</td>\n",
       "    </tr>\n",
       "    <tr>\n",
       "      <th>3</th>\n",
       "      <td>944962</td>\n",
       "      <td>Spicy Taco House</td>\n",
       "      <td>Dallas</td>\n",
       "      <td>21-09-2024 06:43</td>\n",
       "      <td>21-09-2024 07:28</td>\n",
       "      <td>45</td>\n",
       "      <td>Regular</td>\n",
       "      <td>Chicken Taco</td>\n",
       "      <td>2</td>\n",
       "      <td>3.00</td>\n",
       "      <td>5.50</td>\n",
       "      <td>1.90</td>\n",
       "      <td>True</td>\n",
       "    </tr>\n",
       "    <tr>\n",
       "      <th>4</th>\n",
       "      <td>476417</td>\n",
       "      <td>Casa del Taco</td>\n",
       "      <td>San Antonio</td>\n",
       "      <td>24-07-2024 11:01</td>\n",
       "      <td>24-07-2024 11:16</td>\n",
       "      <td>15</td>\n",
       "      <td>Large</td>\n",
       "      <td>Pork Taco</td>\n",
       "      <td>0</td>\n",
       "      <td>24.34</td>\n",
       "      <td>4.50</td>\n",
       "      <td>1.14</td>\n",
       "      <td>False</td>\n",
       "    </tr>\n",
       "    <tr>\n",
       "      <th>...</th>\n",
       "      <td>...</td>\n",
       "      <td>...</td>\n",
       "      <td>...</td>\n",
       "      <td>...</td>\n",
       "      <td>...</td>\n",
       "      <td>...</td>\n",
       "      <td>...</td>\n",
       "      <td>...</td>\n",
       "      <td>...</td>\n",
       "      <td>...</td>\n",
       "      <td>...</td>\n",
       "      <td>...</td>\n",
       "      <td>...</td>\n",
       "    </tr>\n",
       "    <tr>\n",
       "      <th>995</th>\n",
       "      <td>164891</td>\n",
       "      <td>La Vida Taco</td>\n",
       "      <td>Austin</td>\n",
       "      <td>27-05-2024 11:12</td>\n",
       "      <td>27-05-2024 12:11</td>\n",
       "      <td>59</td>\n",
       "      <td>Large</td>\n",
       "      <td>Veggie Taco</td>\n",
       "      <td>2</td>\n",
       "      <td>20.04</td>\n",
       "      <td>7.00</td>\n",
       "      <td>2.80</td>\n",
       "      <td>False</td>\n",
       "    </tr>\n",
       "    <tr>\n",
       "      <th>996</th>\n",
       "      <td>232442</td>\n",
       "      <td>The Taco Stand</td>\n",
       "      <td>San Antonio</td>\n",
       "      <td>03-04-2025 20:51</td>\n",
       "      <td>03-04-2025 21:29</td>\n",
       "      <td>38</td>\n",
       "      <td>Regular</td>\n",
       "      <td>Fish Taco</td>\n",
       "      <td>0</td>\n",
       "      <td>13.69</td>\n",
       "      <td>3.00</td>\n",
       "      <td>1.38</td>\n",
       "      <td>False</td>\n",
       "    </tr>\n",
       "    <tr>\n",
       "      <th>997</th>\n",
       "      <td>251729</td>\n",
       "      <td>Urban Tacos</td>\n",
       "      <td>Houston</td>\n",
       "      <td>23-01-2025 05:33</td>\n",
       "      <td>23-01-2025 06:41</td>\n",
       "      <td>68</td>\n",
       "      <td>Regular</td>\n",
       "      <td>Pork Taco</td>\n",
       "      <td>2</td>\n",
       "      <td>4.07</td>\n",
       "      <td>5.50</td>\n",
       "      <td>2.00</td>\n",
       "      <td>False</td>\n",
       "    </tr>\n",
       "    <tr>\n",
       "      <th>998</th>\n",
       "      <td>940215</td>\n",
       "      <td>Taco Fiesta</td>\n",
       "      <td>San Antonio</td>\n",
       "      <td>05-09-2024 15:49</td>\n",
       "      <td>05-09-2024 16:38</td>\n",
       "      <td>49</td>\n",
       "      <td>Regular</td>\n",
       "      <td>Veggie Taco</td>\n",
       "      <td>5</td>\n",
       "      <td>14.56</td>\n",
       "      <td>9.25</td>\n",
       "      <td>1.89</td>\n",
       "      <td>False</td>\n",
       "    </tr>\n",
       "    <tr>\n",
       "      <th>999</th>\n",
       "      <td>326183</td>\n",
       "      <td>Grande Tacos</td>\n",
       "      <td>Phoenix</td>\n",
       "      <td>19-10-2024 14:21</td>\n",
       "      <td>19-10-2024 14:38</td>\n",
       "      <td>17</td>\n",
       "      <td>Large</td>\n",
       "      <td>Chicken Taco</td>\n",
       "      <td>5</td>\n",
       "      <td>5.66</td>\n",
       "      <td>10.75</td>\n",
       "      <td>3.66</td>\n",
       "      <td>True</td>\n",
       "    </tr>\n",
       "  </tbody>\n",
       "</table>\n",
       "<p>1000 rows × 13 columns</p>\n",
       "</div>"
      ],
      "text/plain": [
       "     Order ID   Restaurant Name     Location        Order Time  \\\n",
       "0      770487      El Taco Loco     New York  01-08-2024 14:55   \n",
       "1      671858      El Taco Loco  San Antonio  23-11-2024 17:11   \n",
       "2      688508        Taco Haven       Austin  21-11-2024 20:24   \n",
       "3      944962  Spicy Taco House       Dallas  21-09-2024 06:43   \n",
       "4      476417     Casa del Taco  San Antonio  24-07-2024 11:01   \n",
       "..        ...               ...          ...               ...   \n",
       "995    164891      La Vida Taco       Austin  27-05-2024 11:12   \n",
       "996    232442    The Taco Stand  San Antonio  03-04-2025 20:51   \n",
       "997    251729       Urban Tacos      Houston  23-01-2025 05:33   \n",
       "998    940215       Taco Fiesta  San Antonio  05-09-2024 15:49   \n",
       "999    326183      Grande Tacos      Phoenix  19-10-2024 14:21   \n",
       "\n",
       "        Delivery Time  Delivery Duration (min) Taco Size     Taco Type  \\\n",
       "0    01-08-2024 15:36                       41   Regular  Chicken Taco   \n",
       "1    23-11-2024 17:25                       14   Regular     Beef Taco   \n",
       "2    21-11-2024 21:02                       38     Large     Pork Taco   \n",
       "3    21-09-2024 07:28                       45   Regular  Chicken Taco   \n",
       "4    24-07-2024 11:16                       15     Large     Pork Taco   \n",
       "..                ...                      ...       ...           ...   \n",
       "995  27-05-2024 12:11                       59     Large   Veggie Taco   \n",
       "996  03-04-2025 21:29                       38   Regular     Fish Taco   \n",
       "997  23-01-2025 06:41                       68   Regular     Pork Taco   \n",
       "998  05-09-2024 16:38                       49   Regular   Veggie Taco   \n",
       "999  19-10-2024 14:38                       17     Large  Chicken Taco   \n",
       "\n",
       "     Toppings Count  Distance (km)  Price ($)  Tip ($)  Weekend Order  \n",
       "0                 5           3.01       9.25     2.22          False  \n",
       "1                 1           6.20       4.25     3.01           True  \n",
       "2                 2          20.33       7.00     0.02          False  \n",
       "3                 2           3.00       5.50     1.90           True  \n",
       "4                 0          24.34       4.50     1.14          False  \n",
       "..              ...            ...        ...      ...            ...  \n",
       "995               2          20.04       7.00     2.80          False  \n",
       "996               0          13.69       3.00     1.38          False  \n",
       "997               2           4.07       5.50     2.00          False  \n",
       "998               5          14.56       9.25     1.89          False  \n",
       "999               5           5.66      10.75     3.66           True  \n",
       "\n",
       "[1000 rows x 13 columns]"
      ]
     },
     "execution_count": 4,
     "metadata": {},
     "output_type": "execute_result"
    }
   ],
   "source": [
    "df"
   ]
  },
  {
   "cell_type": "markdown",
   "id": "6ba599d0",
   "metadata": {},
   "source": [
    "# 2. Estructura del dataframe."
   ]
  },
  {
   "cell_type": "markdown",
   "id": "525389a4",
   "metadata": {},
   "source": [
    "Muestrar un resumen del DataFrame: <br>número de filas, columnas, tipos de datos, valores nulos, etc."
   ]
  },
  {
   "cell_type": "code",
   "execution_count": 5,
   "id": "28a25db0",
   "metadata": {},
   "outputs": [
    {
     "name": "stdout",
     "output_type": "stream",
     "text": [
      "<class 'pandas.core.frame.DataFrame'>\n",
      "RangeIndex: 1000 entries, 0 to 999\n",
      "Data columns (total 13 columns):\n",
      " #   Column                   Non-Null Count  Dtype  \n",
      "---  ------                   --------------  -----  \n",
      " 0   Order ID                 1000 non-null   int64  \n",
      " 1   Restaurant Name          1000 non-null   object \n",
      " 2   Location                 1000 non-null   object \n",
      " 3   Order Time               1000 non-null   object \n",
      " 4   Delivery Time            1000 non-null   object \n",
      " 5   Delivery Duration (min)  1000 non-null   int64  \n",
      " 6   Taco Size                1000 non-null   object \n",
      " 7   Taco Type                1000 non-null   object \n",
      " 8   Toppings Count           1000 non-null   int64  \n",
      " 9   Distance (km)            1000 non-null   float64\n",
      " 10  Price ($)                1000 non-null   float64\n",
      " 11  Tip ($)                  1000 non-null   float64\n",
      " 12  Weekend Order            1000 non-null   bool   \n",
      "dtypes: bool(1), float64(3), int64(3), object(6)\n",
      "memory usage: 94.9+ KB\n"
     ]
    }
   ],
   "source": [
    "df.info()"
   ]
  },
  {
   "cell_type": "markdown",
   "id": "d7fcbb4b",
   "metadata": {},
   "source": [
    "# 3. Ver los diferentes valores de los atributos."
   ]
  },
  {
   "cell_type": "markdown",
   "id": "dc3a2035",
   "metadata": {},
   "source": [
    "# 4. Revisar la completitud de los datos."
   ]
  },
  {
   "cell_type": "markdown",
   "id": "a1026e11",
   "metadata": {},
   "source": [
    "### 4.1 Datos nulos en nuestro dataset"
   ]
  },
  {
   "cell_type": "markdown",
   "id": "eb93eb4e",
   "metadata": {},
   "source": [
    "Para revisar si hay datos nulos utilizamos el siguiente comando:"
   ]
  },
  {
   "cell_type": "code",
   "execution_count": 6,
   "id": "a65e062e",
   "metadata": {},
   "outputs": [
    {
     "data": {
      "text/plain": [
       "Order ID                   0\n",
       "Restaurant Name            0\n",
       "Location                   0\n",
       "Order Time                 0\n",
       "Delivery Time              0\n",
       "Delivery Duration (min)    0\n",
       "Taco Size                  0\n",
       "Taco Type                  0\n",
       "Toppings Count             0\n",
       "Distance (km)              0\n",
       "Price ($)                  0\n",
       "Tip ($)                    0\n",
       "Weekend Order              0\n",
       "dtype: int64"
      ]
     },
     "execution_count": 6,
     "metadata": {},
     "output_type": "execute_result"
    }
   ],
   "source": [
    "df.isnull().sum()"
   ]
  },
  {
   "cell_type": "markdown",
   "id": "2d56797e",
   "metadata": {},
   "source": [
    "### 4.2 Detección de datos duplicados"
   ]
  },
  {
   "cell_type": "markdown",
   "id": "b2668146",
   "metadata": {},
   "source": [
    "Se revisa a continuación si existe alguna fila duplicada"
   ]
  },
  {
   "cell_type": "code",
   "execution_count": 7,
   "id": "1f891d94",
   "metadata": {},
   "outputs": [
    {
     "data": {
      "text/plain": [
       "np.int64(0)"
      ]
     },
     "execution_count": 7,
     "metadata": {},
     "output_type": "execute_result"
    }
   ],
   "source": [
    "df.duplicated().sum()"
   ]
  },
  {
   "cell_type": "markdown",
   "id": "b55b62da",
   "metadata": {},
   "source": [
    "El resultado arroja 0 filas duplicadas"
   ]
  },
  {
   "cell_type": "markdown",
   "id": "d8826f64",
   "metadata": {},
   "source": [
    "### 4.3 Validación de tipo de datos"
   ]
  },
  {
   "cell_type": "markdown",
   "id": "09f223ba",
   "metadata": {},
   "source": [
    "Si retomamos el punto 2 podemos observar que:\n",
    "* Order ID: entero\n",
    "* Taco Size, Taco Type: texto \n",
    "* Weekend Order: booleano\n",
    "* Order Time, Delivery Time: tipo string, deben convertirse a datetime para realizar un análisis temporal mas detallado."
   ]
  },
  {
   "cell_type": "markdown",
   "id": "20762828",
   "metadata": {},
   "source": [
    "### 4.4 Cardinalidad"
   ]
  },
  {
   "cell_type": "markdown",
   "id": "ee840959",
   "metadata": {},
   "source": [
    "Se revisa la cantida de valores unicos para campos como Restaurant Name, Taco Type y Taco Size. La finalidad de esto es determinar que  los nombres no esten escrito de forma distinta (por ejemplo con mayusculas y minusculas).\n",
    "\n",
    "* Restaurant Name: 10 nombres diferentes correspondientes a los 10 restaurants.\n",
    "* Taco Type: 5 tipos correspondientes a los 5 tipos ofrecidos.\n",
    "* Taco Size: 2 tamaños correspondientes a los 2 tipos ofrecidos."
   ]
  },
  {
   "cell_type": "markdown",
   "id": "e1ed54a4",
   "metadata": {},
   "source": [
    "#  5. Mostrar estadísticas de los datos"
   ]
  },
  {
   "cell_type": "markdown",
   "id": "67303aed",
   "metadata": {},
   "source": [
    "### 5.1 Ventas por tipo de taco"
   ]
  },
  {
   "cell_type": "code",
   "execution_count": 8,
   "id": "af0e8cfe",
   "metadata": {},
   "outputs": [
    {
     "name": "stdout",
     "output_type": "stream",
     "text": [
      "              count      mean      sum\n",
      "Taco Type                             \n",
      "Chicken Taco    218  7.125000  1553.25\n",
      "Fish Taco       211  6.888626  1453.50\n",
      "Veggie Taco     197  6.887056  1356.75\n",
      "Pork Taco       192  7.015625  1347.00\n",
      "Beef Taco       182  6.581044  1197.75\n"
     ]
    }
   ],
   "source": [
    "tipo_taco = df.groupby(\"Taco Type\")[\"Price ($)\"].agg(['count', 'mean', 'sum']).sort_values(by=\"sum\", ascending=False)\n",
    "print( tipo_taco)"
   ]
  },
  {
   "cell_type": "markdown",
   "id": "58371380",
   "metadata": {},
   "source": [
    "### 2. Ventas por tamaño de taco"
   ]
  },
  {
   "cell_type": "code",
   "execution_count": 9,
   "id": "f06b72ce",
   "metadata": {},
   "outputs": [
    {
     "name": "stdout",
     "output_type": "stream",
     "text": [
      "           count      mean      sum\n",
      "Taco Size                          \n",
      "Large        498  7.773092  3871.00\n",
      "Regular      502  6.050299  3037.25\n"
     ]
    }
   ],
   "source": [
    "tamano_taco = df.groupby(\"Taco Size\")[\"Price ($)\"].agg(['count', 'mean', 'sum']).sort_values(by=\"sum\", ascending=False)\n",
    "print( tamano_taco)"
   ]
  },
  {
   "cell_type": "markdown",
   "id": "9ea417ae",
   "metadata": {},
   "source": [
    "### 3. Pedidos por restaurante"
   ]
  },
  {
   "cell_type": "code",
   "execution_count": 10,
   "id": "8034a0b7",
   "metadata": {},
   "outputs": [
    {
     "name": "stdout",
     "output_type": "stream",
     "text": [
      "Restaurant Name\n",
      "Urban Tacos          117\n",
      "Grande Tacos         106\n",
      "The Taco Stand       105\n",
      "Casa del Taco        104\n",
      "Spicy Taco House     100\n",
      "Taco Fiesta           99\n",
      "La Vida Taco          98\n",
      "Taco Haven            95\n",
      "Taco Time Express     91\n",
      "El Taco Loco          85\n",
      "Name: count, dtype: int64\n"
     ]
    }
   ],
   "source": [
    "pedidos_restaurante = df[\"Restaurant Name\"].value_counts()\n",
    "print(pedidos_restaurante)"
   ]
  },
  {
   "cell_type": "markdown",
   "id": "a79b67d1",
   "metadata": {},
   "source": [
    "### 4. Pedidos por ciudad"
   ]
  },
  {
   "cell_type": "code",
   "execution_count": 11,
   "id": "adb36e7c",
   "metadata": {},
   "outputs": [
    {
     "name": "stdout",
     "output_type": "stream",
     "text": [
      "Location\n",
      "Chicago        116\n",
      "San Antonio    113\n",
      "San Diego      101\n",
      "Houston        101\n",
      "Los Angeles    101\n",
      "Phoenix         99\n",
      "San Jose        98\n",
      "New York        96\n",
      "Austin          95\n",
      "Dallas          80\n",
      "Name: count, dtype: int64\n"
     ]
    }
   ],
   "source": [
    "pedidos_ciudad = df[\"Location\"].value_counts()\n",
    "print( pedidos_ciudad)"
   ]
  },
  {
   "cell_type": "markdown",
   "id": "a4005eef",
   "metadata": {},
   "source": [
    "### 5. Comparación fin de semana vs semana"
   ]
  },
  {
   "cell_type": "code",
   "execution_count": 12,
   "id": "98021619",
   "metadata": {},
   "outputs": [
    {
     "name": "stdout",
     "output_type": "stream",
     "text": [
      "               count      mean      sum\n",
      "Weekend Order                          \n",
      "False            725  6.906552  5007.25\n",
      "True             275  6.912727  1901.00\n"
     ]
    }
   ],
   "source": [
    "fin_de_semana = df.groupby(\"Weekend Order\")[\"Price ($)\"].agg(['count', 'mean', 'sum'])\n",
    "print(fin_de_semana)"
   ]
  },
  {
   "cell_type": "markdown",
   "id": "fa20e731",
   "metadata": {},
   "source": [
    " # 6. Explicar los datos utilizando gráficos \n",
    " (esto permitirá ver cantidades, porcentajes, tendencias, etc)."
   ]
  },
  {
   "cell_type": "markdown",
   "id": "ce2e300d",
   "metadata": {},
   "source": [
    "### Gráfico 1: Ventas por tipo de taco\n",
    "\n",
    "El siguiente taco muestra las ventas totales por taco vendido, arrojando que el taco mas vendido es el Chicken Taco y el menos vendido el Beef taco"
   ]
  },
  {
   "cell_type": "code",
   "execution_count": 13,
   "id": "2b6c66bd",
   "metadata": {},
   "outputs": [
    {
     "data": {
      "image/png": "[encoded data removed]",
      "text/plain": [
       "<Figure size 640x480 with 1 Axes>"
      ]
     },
     "metadata": {},
     "output_type": "display_data"
    }
   ],
   "source": [
    "tipo_taco['sum'].plot(kind='bar', title='Ventas Totales por Tipo de Taco', ylabel='Ventas ($)', xlabel='Tipo de Taco', color='orange')\n",
    "plt.tight_layout()\n",
    "plt.show()"
   ]
  },
  {
   "cell_type": "markdown",
   "id": "6fedbaab",
   "metadata": {},
   "source": [
    "### Gráfico 2: Pedidos por tamaño de taco\n",
    "\n",
    "El siguiente grafico nos muestra cuál es el tamaño de taco más popular entre los clientes. El taco tamaño regular es el preferido levemente por un porcentaje mayor de clientes."
   ]
  },
  {
   "cell_type": "code",
   "execution_count": 14,
   "id": "b10f8548",
   "metadata": {},
   "outputs": [
    {
     "data": {
      "image/png": "[encoded data removed]",
      "text/plain": [
       "<Figure size 640x480 with 1 Axes>"
      ]
     },
     "metadata": {},
     "output_type": "display_data"
    }
   ],
   "source": [
    "tamano_taco['count'].plot(kind='pie', title='Distribución de Pedidos por Tamaño de Taco', autopct='%1.1f%%', startangle=90)\n",
    "plt.ylabel('')\n",
    "plt.tight_layout()\n",
    "plt.show()"
   ]
  },
  {
   "cell_type": "markdown",
   "id": "20809550",
   "metadata": {},
   "source": [
    "### Gráfico 3: Pedidos por restaurante (top 10)\n",
    "\n",
    "El siguiente gráfico permite identificar los locales con mayor cantidad de ventas."
   ]
  },
  {
   "cell_type": "code",
   "execution_count": 15,
   "id": "a7dae0f4",
   "metadata": {},
   "outputs": [
    {
     "data": {
      "image/png": "[encoded data removed]",
      "text/plain": [
       "<Figure size 640x480 with 1 Axes>"
      ]
     },
     "metadata": {},
     "output_type": "display_data"
    }
   ],
   "source": [
    "pedidos_restaurante.head(10).plot(kind='barh', title='Top 10 Restaurantes por Cantidad de Pedidos', color='green')\n",
    "plt.xlabel('Cantidad de Pedidos')\n",
    "plt.tight_layout()\n",
    "plt.show()\n"
   ]
  },
  {
   "cell_type": "markdown",
   "id": "3bb1a6b6",
   "metadata": {},
   "source": [
    "### Gráfico 4: Pedidos por ciudad\n",
    "\n",
    "Nos ayuda a visualizar en qué ciudades hay mayor consumo de tacos."
   ]
  },
  {
   "cell_type": "code",
   "execution_count": 16,
   "id": "6847f742",
   "metadata": {},
   "outputs": [
    {
     "data": {
      "image/png": "[encoded data removed]",
      "text/plain": [
       "<Figure size 640x480 with 1 Axes>"
      ]
     },
     "metadata": {},
     "output_type": "display_data"
    }
   ],
   "source": [
    "\n",
    "pedidos_ciudad.plot(kind='bar', title='Pedidos por Ciudad', color='skyblue')\n",
    "plt.xlabel('Ciudad')\n",
    "plt.ylabel('Cantidad de Pedidos')\n",
    "plt.tight_layout()\n",
    "plt.show()"
   ]
  }
 ],
 "metadata": {
  "kernelspec": {
   "display_name": "Python 3",
   "language": "python",
   "name": "python3"
  },
  "language_info": {
   "codemirror_mode": {
    "name": "ipython",
    "version": 3
   },
   "file_extension": ".py",
   "mimetype": "text/x-python",
   "name": "python",
   "nbconvert_exporter": "python",
   "pygments_lexer": "ipython3",
   "version": "3.13.5"
  }
 },
 "nbformat": 4,
 "nbformat_minor": 5
}
