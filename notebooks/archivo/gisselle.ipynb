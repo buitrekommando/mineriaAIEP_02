{
 "cells": [
  {
   "cell_type": "markdown",
   "id": "b2e76089",
   "metadata": {},
   "source": [
    "<img src=\"../img/logoAIEP.jpg\" alt=\"Logo de AIEP\" width=\"300\">"
   ]
  },
  {
   "cell_type": "markdown",
   "id": "3b66b136",
   "metadata": {},
   "source": [
    "# Título \n",
    "## Subtitulo \n",
    "Cuerpo \n",
    "Lista\n",
    "* Uno\n",
    "- Dos\n",
    "3. Tres "
   ]
  },
  {
   "cell_type": "code",
   "execution_count": 3,
   "id": "c1b87d5b",
   "metadata": {},
   "outputs": [],
   "source": [
    "import pandas as pd\n",
    "import numpy as np\n",
    "import seaborn as sns\n",
    "import matplotlib.pyplot as plt"
   ]
  }
 ],
 "metadata": {
  "kernelspec": {
   "display_name": "Python 3",
   "language": "python",
   "name": "python3"
  },
  "language_info": {
   "codemirror_mode": {
    "name": "ipython",
    "version": 3
   },
   "file_extension": ".py",
   "mimetype": "text/x-python",
   "name": "python",
   "nbconvert_exporter": "python",
   "pygments_lexer": "ipython3",
   "version": "3.13.5"
  }
 },
 "nbformat": 4,
 "nbformat_minor": 5
}
