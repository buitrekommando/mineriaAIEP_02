{
 "cells": [
  {
   "cell_type": "markdown",
   "id": "a8d4bdad",
   "metadata": {},
   "source": [
    "<img src=\"../img/logoAIEP.jpg\" alt=\"Logo de AIEP\" width=\"300\">"
   ]
  },
  {
   "cell_type": "markdown",
   "id": "3f04b188",
   "metadata": {},
   "source": [
    "# Título\n",
    "## Subtítulo\n",
    "Cuerpo"
   ]
  },
  {
   "cell_type": "markdown",
   "id": "8b1ff2cf",
   "metadata": {},
   "source": [
    "# Conocer los Datos.\n",
    "Descripción de atributos. Punto por punto y descripción.\n",
    "1. Atributo: Descripción.\n",
    "2. Atributo: Descripción."
   ]
  },
  {
   "cell_type": "markdown",
   "id": "215b740d",
   "metadata": {},
   "source": [
    "<div class=\"alert alert-block alert-info\">\n",
    "<b>Tip:</b> usar cajas azues (alert-info) para tips y notes. \n",
    "If it’s a note, you don’t have to include the word “Note”.\n",
    "</div>"
   ]
  }
 ],
 "metadata": {
  "language_info": {
   "name": "python"
  }
 },
 "nbformat": 4,
 "nbformat_minor": 5
}
