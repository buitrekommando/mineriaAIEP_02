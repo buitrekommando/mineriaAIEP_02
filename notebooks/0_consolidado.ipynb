{
 "cells": [
  {
   "cell_type": "markdown",
   "id": "d5486ffc",
   "metadata": {},
   "source": [
    "## *Evaluación de Actividad 1*\n",
    "# Introduccion a la minería, análisis de  Taco Sales\n"
   ]
  },
  {
   "cell_type": "markdown",
   "id": "c08309b6",
   "metadata": {},
   "source": [
    "\n",
    "\n",
    "<img src=\"../img/logoAIEP.jpg\" alt=\"Logo de AIEP\" width=\"300\">\n",
    "\n",
    "<div class=\"alert alert-block alert-warning\">\n",
    "\n",
    "   <b>Estudiantes:</b><br>\n",
    "    Camila García<br>\n",
    "    José Luis Henríquez<br>\n",
    "    Gisselle Rey<br>\n",
    "    Marcos Zuñiga<br>\n",
    "    Gabriela Osbelis Nogera<br>\n",
    "\n",
    " </div>"
   ]
  },
  {
   "cell_type": "markdown",
   "id": "be684a7b",
   "metadata": {},
   "source": [
    "<div class=\"alert alert-block alert-warning\">\n",
    "<b>Grabriela osbelis:</b>\n",
    "</div>"
   ]
  },
  {
   "cell_type": "markdown",
   "id": "e40d9fed",
   "metadata": {},
   "source": [
    "***\n",
    "# Conocer los Datos:\n",
    " <div class=\"alert alert-block alert-danger\">\n",
    "\n",
    "Explicar los datos que vienen en su origen. \n",
    " Esto implica no solamente definir el nombre de la columna, sino que también *explicar los posibles rangos de valores*, lo que permitirá entender la información contenida.\n",
    "\n",
    " Acá también se debe mostrar:\n",
    " 1. Los datos, \n",
    " 2. Estructura del dataframe, \n",
    " 3. Ver los diferentes valores de los atributos,\n",
    " 4. Revisar la completitud de los datos, \n",
    " 5. Mostrar estadísticas de los datos, \n",
    " 6. Explicar los datos utilizando gráficos (esto permitirá ver cantidades, porcentajes, tendencias, etc).\n",
    "</div>"
   ]
  },
  {
   "cell_type": "markdown",
   "id": "6d20ae3b",
   "metadata": {},
   "source": [
    "# 0. Conocer los datos"
   ]
  },
  {
   "cell_type": "markdown",
   "id": "10672b4a",
   "metadata": {},
   "source": [
    "Este conjunto de datos contiene 1,000 registros de pedidos de entrega de tacos, generados entre el 1 de enero de 2024 y el 25 de mayo de 2025. <br>Simula datos realistas de restaurantes ubicados en varias ciudades de Estados Unidos e incluye información como:\n",
    "<div class=\"alert alert-block alert-info\">\n",
    "\n",
    "\n",
    "- `Order ID` _ID de Pedido_: Identificador único para cada pedido de tacos\n",
    "- `Restaurant` Name _Nombre del Restaurante_: Nombre del restaurante de tacos\n",
    "- `Location` _Ubicación_: Ciudad de EE. UU. donde se realizó el pedido\n",
    "- `Order Time` _Hora del Pedido_: Marca de tiempo cuando se realizó el pedido (AAAA-MM-DD HH:MM:SS)\n",
    "- `Delivery Time` _Hora de Entrega_: Marca de tiempo cuando se entregó el pedido\n",
    "- `Delivery Duration` (min) _Duración de Entrega (minutos)_: Minutos transcurridos desde el pedido hasta la entrega\n",
    "- `Taco Size` _Tamaño del Taco_: Tamaño del taco solicitado: Regular o Grande\n",
    "- `Taco type` _Tipo de Taco_: Tipo de taco (por ejemplo, Res, Pollo, Vegetariano, Pescado, Cerdo)\n",
    "- `Toppings Count` _Cantidad de Aderezos_: Número de aderezos extra añadidos.\n",
    "- `Distance (km)` _Distancia (km)_: Distancia desde el restaurante hasta el cliente\n",
    "- `Price ($)` _Precio ($)_: Precio total del pedido, calculado según el tamaño y los aderezos\n",
    "- `Tip ($)` _Propina ($)_: Monto de la propina dada por el cliente\n",
    "- `Weekend Order` _Pedido en Fin de Semana_: Booleano, VERDADERO si el pedido se realizó en fin de semana.\n",
    "</div>"
   ]
  },
  {
   "cell_type": "markdown",
   "id": "983d643d",
   "metadata": {},
   "source": [
    "# 1. Los Datos."
   ]
  },
  {
   "cell_type": "code",
   "execution_count": null,
   "id": "c8ffd14b",
   "metadata": {},
   "outputs": [],
   "source": [
    "import pandas as pd"
   ]
  },
  {
   "cell_type": "markdown",
   "id": "7e13287a",
   "metadata": {},
   "source": [
    "Crear dataframe"
   ]
  },
  {
   "cell_type": "code",
   "execution_count": null,
   "id": "9da5c6fe",
   "metadata": {},
   "outputs": [],
   "source": [
    "df = pd.read_csv(\"../dataset/taco_sales_2024-2025.csv\")"
   ]
  },
  {
   "cell_type": "markdown",
   "id": "5964b868",
   "metadata": {},
   "source": [
    "Mostrar dataframe"
   ]
  },
  {
   "cell_type": "code",
   "execution_count": null,
   "id": "d04736b0",
   "metadata": {},
   "outputs": [
    {
     "data": {
      "text/html": [
       "<div>\n",
       "<style scoped>\n",
       "    .dataframe tbody tr th:only-of-type {\n",
       "        vertical-align: middle;\n",
       "    }\n",
       "\n",
       "    .dataframe tbody tr th {\n",
       "        vertical-align: top;\n",
       "    }\n",
       "\n",
       "    .dataframe thead th {\n",
       "        text-align: right;\n",
       "    }\n",
       "</style>\n",
       "<table border=\"1\" class=\"dataframe\">\n",
       "  <thead>\n",
       "    <tr style=\"text-align: right;\">\n",
       "      <th></th>\n",
       "      <th>Order ID</th>\n",
       "      <th>Restaurant Name</th>\n",
       "      <th>Location</th>\n",
       "      <th>Order Time</th>\n",
       "      <th>Delivery Time</th>\n",
       "      <th>Delivery Duration (min)</th>\n",
       "      <th>Taco Size</th>\n",
       "      <th>Taco Type</th>\n",
       "      <th>Toppings Count</th>\n",
       "      <th>Distance (km)</th>\n",
       "      <th>Price ($)</th>\n",
       "      <th>Tip ($)</th>\n",
       "      <th>Weekend Order</th>\n",
       "    </tr>\n",
       "  </thead>\n",
       "  <tbody>\n",
       "    <tr>\n",
       "      <th>0</th>\n",
       "      <td>770487</td>\n",
       "      <td>El Taco Loco</td>\n",
       "      <td>New York</td>\n",
       "      <td>01-08-2024 14:55</td>\n",
       "      <td>01-08-2024 15:36</td>\n",
       "      <td>41</td>\n",
       "      <td>Regular</td>\n",
       "      <td>Chicken Taco</td>\n",
       "      <td>5</td>\n",
       "      <td>3.01</td>\n",
       "      <td>9.25</td>\n",
       "      <td>2.22</td>\n",
       "      <td>False</td>\n",
       "    </tr>\n",
       "    <tr>\n",
       "      <th>1</th>\n",
       "      <td>671858</td>\n",
       "      <td>El Taco Loco</td>\n",
       "      <td>San Antonio</td>\n",
       "      <td>23-11-2024 17:11</td>\n",
       "      <td>23-11-2024 17:25</td>\n",
       "      <td>14</td>\n",
       "      <td>Regular</td>\n",
       "      <td>Beef Taco</td>\n",
       "      <td>1</td>\n",
       "      <td>6.20</td>\n",
       "      <td>4.25</td>\n",
       "      <td>3.01</td>\n",
       "      <td>True</td>\n",
       "    </tr>\n",
       "    <tr>\n",
       "      <th>2</th>\n",
       "      <td>688508</td>\n",
       "      <td>Taco Haven</td>\n",
       "      <td>Austin</td>\n",
       "      <td>21-11-2024 20:24</td>\n",
       "      <td>21-11-2024 21:02</td>\n",
       "      <td>38</td>\n",
       "      <td>Large</td>\n",
       "      <td>Pork Taco</td>\n",
       "      <td>2</td>\n",
       "      <td>20.33</td>\n",
       "      <td>7.00</td>\n",
       "      <td>0.02</td>\n",
       "      <td>False</td>\n",
       "    </tr>\n",
       "    <tr>\n",
       "      <th>3</th>\n",
       "      <td>944962</td>\n",
       "      <td>Spicy Taco House</td>\n",
       "      <td>Dallas</td>\n",
       "      <td>21-09-2024 06:43</td>\n",
       "      <td>21-09-2024 07:28</td>\n",
       "      <td>45</td>\n",
       "      <td>Regular</td>\n",
       "      <td>Chicken Taco</td>\n",
       "      <td>2</td>\n",
       "      <td>3.00</td>\n",
       "      <td>5.50</td>\n",
       "      <td>1.90</td>\n",
       "      <td>True</td>\n",
       "    </tr>\n",
       "    <tr>\n",
       "      <th>4</th>\n",
       "      <td>476417</td>\n",
       "      <td>Casa del Taco</td>\n",
       "      <td>San Antonio</td>\n",
       "      <td>24-07-2024 11:01</td>\n",
       "      <td>24-07-2024 11:16</td>\n",
       "      <td>15</td>\n",
       "      <td>Large</td>\n",
       "      <td>Pork Taco</td>\n",
       "      <td>0</td>\n",
       "      <td>24.34</td>\n",
       "      <td>4.50</td>\n",
       "      <td>1.14</td>\n",
       "      <td>False</td>\n",
       "    </tr>\n",
       "    <tr>\n",
       "      <th>...</th>\n",
       "      <td>...</td>\n",
       "      <td>...</td>\n",
       "      <td>...</td>\n",
       "      <td>...</td>\n",
       "      <td>...</td>\n",
       "      <td>...</td>\n",
       "      <td>...</td>\n",
       "      <td>...</td>\n",
       "      <td>...</td>\n",
       "      <td>...</td>\n",
       "      <td>...</td>\n",
       "      <td>...</td>\n",
       "      <td>...</td>\n",
       "    </tr>\n",
       "    <tr>\n",
       "      <th>995</th>\n",
       "      <td>164891</td>\n",
       "      <td>La Vida Taco</td>\n",
       "      <td>Austin</td>\n",
       "      <td>27-05-2024 11:12</td>\n",
       "      <td>27-05-2024 12:11</td>\n",
       "      <td>59</td>\n",
       "      <td>Large</td>\n",
       "      <td>Veggie Taco</td>\n",
       "      <td>2</td>\n",
       "      <td>20.04</td>\n",
       "      <td>7.00</td>\n",
       "      <td>2.80</td>\n",
       "      <td>False</td>\n",
       "    </tr>\n",
       "    <tr>\n",
       "      <th>996</th>\n",
       "      <td>232442</td>\n",
       "      <td>The Taco Stand</td>\n",
       "      <td>San Antonio</td>\n",
       "      <td>03-04-2025 20:51</td>\n",
       "      <td>03-04-2025 21:29</td>\n",
       "      <td>38</td>\n",
       "      <td>Regular</td>\n",
       "      <td>Fish Taco</td>\n",
       "      <td>0</td>\n",
       "      <td>13.69</td>\n",
       "      <td>3.00</td>\n",
       "      <td>1.38</td>\n",
       "      <td>False</td>\n",
       "    </tr>\n",
       "    <tr>\n",
       "      <th>997</th>\n",
       "      <td>251729</td>\n",
       "      <td>Urban Tacos</td>\n",
       "      <td>Houston</td>\n",
       "      <td>23-01-2025 05:33</td>\n",
       "      <td>23-01-2025 06:41</td>\n",
       "      <td>68</td>\n",
       "      <td>Regular</td>\n",
       "      <td>Pork Taco</td>\n",
       "      <td>2</td>\n",
       "      <td>4.07</td>\n",
       "      <td>5.50</td>\n",
       "      <td>2.00</td>\n",
       "      <td>False</td>\n",
       "    </tr>\n",
       "    <tr>\n",
       "      <th>998</th>\n",
       "      <td>940215</td>\n",
       "      <td>Taco Fiesta</td>\n",
       "      <td>San Antonio</td>\n",
       "      <td>05-09-2024 15:49</td>\n",
       "      <td>05-09-2024 16:38</td>\n",
       "      <td>49</td>\n",
       "      <td>Regular</td>\n",
       "      <td>Veggie Taco</td>\n",
       "      <td>5</td>\n",
       "      <td>14.56</td>\n",
       "      <td>9.25</td>\n",
       "      <td>1.89</td>\n",
       "      <td>False</td>\n",
       "    </tr>\n",
       "    <tr>\n",
       "      <th>999</th>\n",
       "      <td>326183</td>\n",
       "      <td>Grande Tacos</td>\n",
       "      <td>Phoenix</td>\n",
       "      <td>19-10-2024 14:21</td>\n",
       "      <td>19-10-2024 14:38</td>\n",
       "      <td>17</td>\n",
       "      <td>Large</td>\n",
       "      <td>Chicken Taco</td>\n",
       "      <td>5</td>\n",
       "      <td>5.66</td>\n",
       "      <td>10.75</td>\n",
       "      <td>3.66</td>\n",
       "      <td>True</td>\n",
       "    </tr>\n",
       "  </tbody>\n",
       "</table>\n",
       "<p>1000 rows × 13 columns</p>\n",
       "</div>"
      ],
      "text/plain": [
       "     Order ID   Restaurant Name     Location        Order Time  \\\n",
       "0      770487      El Taco Loco     New York  01-08-2024 14:55   \n",
       "1      671858      El Taco Loco  San Antonio  23-11-2024 17:11   \n",
       "2      688508        Taco Haven       Austin  21-11-2024 20:24   \n",
       "3      944962  Spicy Taco House       Dallas  21-09-2024 06:43   \n",
       "4      476417     Casa del Taco  San Antonio  24-07-2024 11:01   \n",
       "..        ...               ...          ...               ...   \n",
       "995    164891      La Vida Taco       Austin  27-05-2024 11:12   \n",
       "996    232442    The Taco Stand  San Antonio  03-04-2025 20:51   \n",
       "997    251729       Urban Tacos      Houston  23-01-2025 05:33   \n",
       "998    940215       Taco Fiesta  San Antonio  05-09-2024 15:49   \n",
       "999    326183      Grande Tacos      Phoenix  19-10-2024 14:21   \n",
       "\n",
       "        Delivery Time  Delivery Duration (min) Taco Size     Taco Type  \\\n",
       "0    01-08-2024 15:36                       41   Regular  Chicken Taco   \n",
       "1    23-11-2024 17:25                       14   Regular     Beef Taco   \n",
       "2    21-11-2024 21:02                       38     Large     Pork Taco   \n",
       "3    21-09-2024 07:28                       45   Regular  Chicken Taco   \n",
       "4    24-07-2024 11:16                       15     Large     Pork Taco   \n",
       "..                ...                      ...       ...           ...   \n",
       "995  27-05-2024 12:11                       59     Large   Veggie Taco   \n",
       "996  03-04-2025 21:29                       38   Regular     Fish Taco   \n",
       "997  23-01-2025 06:41                       68   Regular     Pork Taco   \n",
       "998  05-09-2024 16:38                       49   Regular   Veggie Taco   \n",
       "999  19-10-2024 14:38                       17     Large  Chicken Taco   \n",
       "\n",
       "     Toppings Count  Distance (km)  Price ($)  Tip ($)  Weekend Order  \n",
       "0                 5           3.01       9.25     2.22          False  \n",
       "1                 1           6.20       4.25     3.01           True  \n",
       "2                 2          20.33       7.00     0.02          False  \n",
       "3                 2           3.00       5.50     1.90           True  \n",
       "4                 0          24.34       4.50     1.14          False  \n",
       "..              ...            ...        ...      ...            ...  \n",
       "995               2          20.04       7.00     2.80          False  \n",
       "996               0          13.69       3.00     1.38          False  \n",
       "997               2           4.07       5.50     2.00          False  \n",
       "998               5          14.56       9.25     1.89          False  \n",
       "999               5           5.66      10.75     3.66           True  \n",
       "\n",
       "[1000 rows x 13 columns]"
      ]
     },
     "execution_count": 4,
     "metadata": {},
     "output_type": "execute_result"
    }
   ],
   "source": [
    "df"
   ]
  },
  {
   "cell_type": "markdown",
   "id": "6ba599d0",
   "metadata": {},
   "source": [
    "# 2. Estructura del dataframe."
   ]
  },
  {
   "cell_type": "markdown",
   "id": "525389a4",
   "metadata": {},
   "source": [
    "Muestrar un resumen del DataFrame: <br>número de filas, columnas, tipos de datos, valores nulos, etc."
   ]
  },
  {
   "cell_type": "code",
   "execution_count": null,
   "id": "28a25db0",
   "metadata": {},
   "outputs": [
    {
     "name": "stdout",
     "output_type": "stream",
     "text": [
      "<class 'pandas.core.frame.DataFrame'>\n",
      "RangeIndex: 1000 entries, 0 to 999\n",
      "Data columns (total 13 columns):\n",
      " #   Column                   Non-Null Count  Dtype  \n",
      "---  ------                   --------------  -----  \n",
      " 0   Order ID                 1000 non-null   int64  \n",
      " 1   Restaurant Name          1000 non-null   object \n",
      " 2   Location                 1000 non-null   object \n",
      " 3   Order Time               1000 non-null   object \n",
      " 4   Delivery Time            1000 non-null   object \n",
      " 5   Delivery Duration (min)  1000 non-null   int64  \n",
      " 6   Taco Size                1000 non-null   object \n",
      " 7   Taco Type                1000 non-null   object \n",
      " 8   Toppings Count           1000 non-null   int64  \n",
      " 9   Distance (km)            1000 non-null   float64\n",
      " 10  Price ($)                1000 non-null   float64\n",
      " 11  Tip ($)                  1000 non-null   float64\n",
      " 12  Weekend Order            1000 non-null   bool   \n",
      "dtypes: bool(1), float64(3), int64(3), object(6)\n",
      "memory usage: 94.9+ KB\n"
     ]
    }
   ],
   "source": [
    "df.info()"
   ]
  },
  {
   "cell_type": "markdown",
   "id": "d7fcbb4b",
   "metadata": {},
   "source": [
    "# 3. Ver los diferentes valores de los atributos."
   ]
  },
  {
   "cell_type": "markdown",
   "id": "dc3a2035",
   "metadata": {},
   "source": [
    "# 4. Revisar la completitud de los datos."
   ]
  },
  {
   "cell_type": "markdown",
   "id": "0e2426cb",
   "metadata": {},
   "source": [
    "#  5. Mostrar estadísticas de los datos."
   ]
  },
  {
   "cell_type": "markdown",
   "id": "fa20e731",
   "metadata": {},
   "source": [
    " # 6. Explicar los datos utilizando gráficos \n",
    " (esto permitirá ver cantidades, porcentajes, tendencias, etc)."
   ]
  },
  {
   "cell_type": "markdown",
   "id": "190346aa",
   "metadata": {},
   "source": [
    "***\n",
    "# 7. Preguntas"
   ]
  },
  {
   "cell_type": "markdown",
   "id": "f2d694a3",
   "metadata": {},
   "source": [
    "<div class=\"alert alert-block alert-danger\">\n",
    "# Definir y responder 3 preguntas de negocio:\n",
    "Esto aplicando groupby y desplegando resultados con gráficos.\n",
    "</div>"
   ]
  },
  {
   "cell_type": "markdown",
   "id": "d4f095d5",
   "metadata": {},
   "source": [
    "***"
   ]
  },
  {
   "cell_type": "markdown",
   "id": "240ecfce",
   "metadata": {},
   "source": [
    "<div class=\"alert alert-block alert-warning\">\n",
    "<b>Marcos Camila:</b> \n",
    "</div>"
   ]
  }
 ],
 "metadata": {
  "kernelspec": {
   "display_name": "env",
   "language": "python",
   "name": "python3"
  },
  "language_info": {
   "codemirror_mode": {
    "name": "ipython",
    "version": 3
   },
   "file_extension": ".py",
   "mimetype": "text/x-python",
   "name": "python",
   "nbconvert_exporter": "python",
   "pygments_lexer": "ipython3",
   "version": "3.13.5"
  }
 },
 "nbformat": 4,
 "nbformat_minor": 5
}
