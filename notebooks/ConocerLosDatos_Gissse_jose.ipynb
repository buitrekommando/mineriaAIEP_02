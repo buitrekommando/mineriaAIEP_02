{
 "cells": [
  {
   "cell_type": "markdown",
   "id": "e40d9fed",
   "metadata": {},
   "source": [
    "# Conocer los Datos:\n",
    " Explicar los datos que vienen en su origen. \n",
    " Esto implica no solamente definir el nombre de la columna, sino que también *explicar los posibles rangos de valores*, lo que permitirá entender la información contenida.\n",
    "\n",
    " Acá también se debe mostrar:\n",
    " 1. Los datos, \n",
    " 2. Estructura del dataframe, \n",
    " 3. Ver los diferentes valores de los atributos,\n",
    " 4. Revisar la completitud de los datos, \n",
    " 5. Mostrar estadísticas de los datos, \n",
    " 6. Explicar los datos utilizando gráficos (esto permitirá ver cantidades, porcentajes, tendencias, etc).\n"
   ]
  }
 ],
 "metadata": {
  "language_info": {
   "name": "python"
  }
 },
 "nbformat": 4,
 "nbformat_minor": 5
}
